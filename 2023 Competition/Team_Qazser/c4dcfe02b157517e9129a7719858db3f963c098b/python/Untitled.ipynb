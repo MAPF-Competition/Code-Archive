{
 "cells": [
  {
   "cell_type": "code",
   "execution_count": null,
   "id": "1605298f",
   "metadata": {},
   "outputs": [],
   "source": [
    "import numpy as np\n",
    "import numba as nb"
   ]
  },
  {
   "cell_type": "code",
   "execution_count": null,
   "id": "7e0c10cc",
   "metadata": {},
   "outputs": [],
   "source": [
    "%load_ext Cython"
   ]
  },
  {
   "cell_type": "markdown",
   "id": "46a64412",
   "metadata": {},
   "source": [
    "Write me a python code with the following information:\n",
    "Name of the function: `find_pairwise_shortest(map: list ,cols :int,rows:int)` to find pairwise shortest paths between every nodes on the graph.\n",
    "The `cols` variable is number of columns in the map.\n",
    "The `rows` variable is number of row in the map\n",
    "The `map` variable is a linearzied version of the 2D map. Represented by a vector of int, the index is calculated by linearise the (row, column) of a location to (row * total number of columns of the map) + column, the value is either 1: non-traversable or 0: traversable."
   ]
  },
  {
   "cell_type": "code",
   "execution_count": null,
   "id": "738fc919",
   "metadata": {
    "scrolled": true
   },
   "outputs": [],
   "source": [
    "@nb.njit(parallel=True)\n",
    "def find_pairwise_shortest(map, cols, rows):\n",
    "    # Check if the dimensions of the map match the given cols and rows\n",
    "    if len(map) != cols * rows:\n",
    "        print(\"Invalid map dimensions.\")\n",
    "        return\n",
    "\n",
    "    # Initialize the distance matrix with large values\n",
    "    dist = [[np.inf for _ in range(cols * rows)] for _ in range(cols * rows)]\n",
    "\n",
    "    # Populate the distance matrix with direct connections\n",
    "    for i in range(rows):\n",
    "        for j in range(cols):\n",
    "            current_index = i * cols + j\n",
    "\n",
    "            # Check if the current location is traversable\n",
    "            if map[current_index] == 0:\n",
    "                # Check left\n",
    "                if j > 0 and map[current_index - 1] == 0:\n",
    "                    dist[current_index][current_index - 1] = 1\n",
    "                # Check right\n",
    "                if j < cols - 1 and map[current_index + 1] == 0:\n",
    "                    dist[current_index][current_index + 1] = 1\n",
    "                # Check up\n",
    "                if i > 0 and map[current_index - cols] == 0:\n",
    "                    dist[current_index][current_index - cols] = 1\n",
    "                # Check down\n",
    "                if i < rows - 1 and map[current_index + cols] == 0:\n",
    "                    dist[current_index][current_index + cols] = 1\n",
    "\n",
    "    # Apply Floyd-Warshall algorithm to find pairwise shortest paths\n",
    "    for k in range(cols * rows):\n",
    "        print(f\"k={k}\")\n",
    "        for i in range(cols * rows):\n",
    "            for j in range(cols * rows):\n",
    "                dist[i][j] = min(dist[i][j], dist[i][k] + dist[k][j])\n",
    "\n",
    "    return dist\n",
    "\n",
    "# Example usage:\n",
    "# cols = 3\n",
    "# rows = 3\n",
    "# maps = [0, 0, 1, 1, 0, 0, 1, 0, 0]\n",
    "# result = find_pairwise_shortest(map, cols, rows)\n",
    "# for row in result:\n",
    "#     print(row)"
   ]
  },
  {
   "cell_type": "code",
   "execution_count": null,
   "id": "5dbb927c",
   "metadata": {},
   "outputs": [],
   "source": [
    "maps = [0, 0, 0, 0, 0, 0, 0, 0, 0, 0, 1, 0, 0, 0, 0, 0, 0, 1, 0, 0, 0, 1, 0, 1, 0, 0, 0, 0, 0, 0, 0, 0, 1, 0, 0, 0, 1, 0, 1, 1, 0, 0, 0, 0, 0, 0, 0, 0, 0, 0, 0, 1, 0, 1, 0, 0, 0, 1, 0, 0, 0, 0, 0, 0, 0, 0, 0, 0, 0, 0, 0, 0, 0, 0, 0, 0, 0, 0, 1, 0, 0, 0, 0, 0, 0, 0, 0, 1, 1, 0, 0, 0, 1, 0, 0, 0, 0, 0, 0, 0, 0, 1, 0, 1, 0, 0, 0, 0, 0, 0, 0, 0, 0, 0, 1, 0, 0, 0, 0, 0, 0, 0, 0, 0, 0, 1, 0, 0, 0, 1, 1, 0, 0, 0, 0, 0, 0, 0, 0, 0, 0, 0, 1, 1, 0, 1, 0, 0, 0, 0, 0, 0, 1, 0, 0, 1, 0, 0, 0, 0, 0, 0, 0, 0, 0, 0, 1, 0, 0, 1, 0, 1, 0, 0, 1, 1, 0, 0, 0, 0, 0, 0, 1, 0, 0, 0, 0, 1, 0, 0, 1, 1, 0, 0, 0, 0, 0, 0, 1, 0, 0, 1, 1, 0, 0, 0, 0, 0, 0, 0, 0, 1, 0, 0, 0, 0, 0, 0, 0, 1, 0, 0, 0, 1, 0, 1, 0, 0, 0, 1, 0, 0, 0, 0, 0, 0, 0, 0, 0, 0, 0, 0, 0, 0, 0, 1, 1, 0, 0, 0, 1, 0, 0, 1, 0, 0, 0, 0, 0, 0, 0, 0, 1, 0, 0, 0, 0, 0, 0, 0, 0, 0, 1, 0, 0, 0, 0, 0, 0, 0, 1, 0, 1, 0, 0, 0, 0, 0, 0, 0, 1, 0, 1, 0, 0, 0, 0, 0, 0, 0, 0, 0, 0, 0, 0, 1, 0, 1, 0, 0, 0, 0, 0, 0, 0, 1, 1, 0, 0, 0, 1, 0, 1, 0, 0, 0, 0, 0, 0, 0, 0, 0, 1, 0, 1, 0, 0, 0, 0, 0, 0, 0, 1, 0, 0, 0, 1, 0, 0, 0, 0, 0, 0, 0, 0, 0, 0, 0, 0, 0, 0, 0, 0, 0, 1, 0, 0, 0, 0, 0, 1, 0, 1, 0, 1, 0, 0, 0, 0, 0, 0, 0, 1, 0, 0, 0, 1, 0, 0, 0, 0, 0, 1, 0, 1, 0, 1, 1, 0, 1, 0, 0, 0, 0, 0, 0, 0, 0, 0, 0, 1, 0, 0, 0, 0, 0, 0, 1, 0, 0, 0, 0, 0, 0, 0, 0, 0, 0, 0, 0, 0, 0, 0, 0, 1, 0, 1, 0, 0, 0, 0, 0, 1, 0, 0, 0, 1, 0, 0, 0, 0, 1, 1, 1, 0, 0, 0, 0, 0, 0, 0, 1, 0, 0, 0, 0, 0, 0, 0, 0, 0, 1, 0, 0, 0, 0, 0, 0, 0, 0, 0, 0, 0, 0, 0, 0, 0, 0, 1, 0, 0, 0, 0, 1, 0, 1, 0, 1, 0, 0, 1, 0, 0, 0, 0, 0, 0, 0, 0, 0, 0, 0, 0, 0, 1, 0, 0, 0, 1, 0, 0, 0, 0, 0, 0, 0, 0, 1, 0, 0, 0, 0, 1, 0, 0, 1, 1, 1, 0, 0, 0, 0, 1, 0, 0, 1, 0, 0, 0, 0, 0, 0, 1, 1, 1, 0, 0, 1, 0, 1, 0, 0, 1, 0, 1, 0, 0, 1, 1, 0, 0, 0, 0, 1, 1, 1, 1, 0, 0, 0, 0, 0, 0, 0, 0, 0, 1, 0, 0, 0, 0, 0, 0, 0, 0, 1, 0, 0, 1, 0, 0, 0, 0, 0, 0, 1, 1, 1, 0, 0, 0, 0, 0, 0, 1, 0, 0, 0, 1, 0, 0, 1, 0, 0, 1, 0, 1, 0, 0, 0, 1, 0, 0, 0, 1, 0, 0, 0, 0, 0, 0, 1, 0, 1, 0, 0, 0, 0, 0, 0, 0, 0, 1, 0, 0, 0, 0, 0, 0, 0, 0, 0, 1, 1, 0, 1, 0, 0, 0, 1, 0, 0, 0, 0, 0, 0, 0, 0, 0, 1, 0, 1, 0, 0, 0, 0, 0, 0, 0, 0, 1, 0, 0, 1, 1, 1, 0, 0, 1, 1, 1, 0, 0, 0, 0, 0, 1, 0, 1, 0, 0, 1, 0, 0, 0, 0, 1, 0, 0, 0, 0, 0, 0, 1, 0, 0, 0, 0, 0, 0, 0, 0, 0, 0, 1, 0, 0, 0, 0, 0, 0, 0, 0, 1, 0, 0, 0, 0, 0, 1, 0, 0, 0, 0, 1, 0, 0, 0, 1, 0, 1, 0, 1, 1, 0, 0, 0, 0, 0, 0, 0, 0, 0, 0, 0, 0, 0, 0, 0, 0, 0, 0, 0, 0, 0, 1, 0, 0, 0, 1, 0, 1, 0, 0, 1, 0, 1, 0, 0, 0, 0, 0, 0, 0, 0, 0, 0, 0, 0, 0, 0, 0, 0, 0, 0, 0, 1, 0, 0, 0, 0, 0, 0, 0, 0, 1, 0, 0, 1, 0, 0, 1, 0, 1, 0, 0, 0, 0, 0, 0, 1, 0, 1, 0, 0, 0, 0, 0, 0, 0, 0, 0, 1, 1, 0, 0, 0, 0, 0, 0, 0, 0, 0, 1, 0, 0, 1, 0, 0, 1, 0, 0, 1, 0, 0, 0, 0, 0, 0, 0, 0, 0, 0, 0, 0, 0, 0, 0, 0, 0, 0, 0, 0, 0, 0, 0, 1, 0, 0, 1, 1, 0, 0, 0, 0, 0, 0, 1, 0, 0, 0, 1, 0, 0, 0, 1, 0, 0, 0, 0, 0, 0, 0, 0, 0, 1, 1, 1, 1, 0, 0, 0, 0, 1, 0, 0, 0, 0, 1, 0, 0, 0, 0, 1, 0, 1, 0, 1, 0, 0, 0, 1, 0, 0, 0, 0, 0, 0, 1, 1, 1, 1, 0, 1, 0, 0, 1, 1, 0, 1, 0, 1, 1, 0, 0, 0, 0, 0, 1, 0, 0, 0, 0, 0, 0, 0, 0, 1, 0, 0, 0, 0, 1, 1, 0, 0, 0, 0, 0, 0, 0, 0, 0, 0, 0, 0, 0, 1, 0, 0, 1, 0, 0, 0, 0, 0, 0, 0, 0, 0, 1, 0, 0, 0]"
   ]
  },
  {
   "cell_type": "markdown",
   "id": "812339d3",
   "metadata": {},
   "source": [
    "That's a good start, now the problem become a little more difficult, that at every cell on the grid, we can have 4 states: (up, down, left, right) represented by numbers respectively (0,1,2,3). If a the path take a turn, it have to take 1 timestep.\n",
    "\n",
    "That's a good start, now the problem become a little more difficult. Now a state is represented by a tuple `(location, direction)`. To take a turn (clockwise or counter-clockwise), a path must take a timestep to change the direction. The direction (up, down, left, right) represented by numbers respectively (0,1,2,3). Find the shortest path between every pairs of state `(location, direction)`. The input variables are still the same."
   ]
  },
  {
   "cell_type": "code",
   "execution_count": null,
   "id": "d60471c0",
   "metadata": {
    "scrolled": true
   },
   "outputs": [],
   "source": [
    "result = find_pairwise_shortest(np.array(maps),32,32)"
   ]
  },
  {
   "cell_type": "code",
   "execution_count": null,
   "id": "5361edc9",
   "metadata": {},
   "outputs": [],
   "source": [
    "result[0][14]"
   ]
  },
  {
   "cell_type": "code",
   "execution_count": 5,
   "id": "08eacf12",
   "metadata": {},
   "outputs": [
    {
     "data": {
      "text/plain": [
       "281474976710656"
      ]
     },
     "execution_count": 5,
     "metadata": {},
     "output_type": "execute_result"
    }
   ],
   "source": [
    "size = 256*256\n",
    "size**3"
   ]
  },
  {
   "cell_type": "code",
   "execution_count": null,
   "id": "8a0d17bd",
   "metadata": {},
   "outputs": [],
   "source": [
    "@nb.njit\n",
    "def find_pairwise_shortest_with_direction(map, cols, rows):\n",
    "    # Check if the dimensions of the map match the given cols and rows\n",
    "    if len(map) != cols * rows:\n",
    "        print(\"Invalid map dimensions.\")\n",
    "        return\n",
    "\n",
    "    # Function to linearize the state (location, direction)\n",
    "    def linearize_state(location, direction):\n",
    "        return location * 4 + direction\n",
    "\n",
    "    # Initialize the distance matrix with large values\n",
    "    total_states = cols * rows * 4\n",
    "    dist = [[np.inf for _ in range(total_states)] for _ in range(total_states)]\n",
    "\n",
    "    # Populate the distance matrix with direct connections and direction changes\n",
    "    for i in range(rows):\n",
    "        for j in range(cols):\n",
    "            current_location = i * cols + j\n",
    "\n",
    "            for current_direction in range(4):\n",
    "                current_state = linearize_state(current_location, current_direction)\n",
    "\n",
    "                # Check if the current state is traversable\n",
    "                if map[current_location] == 0:\n",
    "                    # Check left\n",
    "                    if j > 0 and map[current_location - 1] == 0:\n",
    "                        dist[current_state][linearize_state(current_location - 1, current_direction)] = 1\n",
    "                    # Check right\n",
    "                    if j < cols - 1 and map[current_location + 1] == 0:\n",
    "                        dist[current_state][linearize_state(current_location + 1, current_direction)] = 1\n",
    "                    # Check up\n",
    "                    if i > 0 and map[current_location - cols] == 0:\n",
    "                        dist[current_state][linearize_state(current_location - cols, current_direction)] = 1\n",
    "                    # Check down\n",
    "                    if i < rows - 1 and map[current_location + cols] == 0:\n",
    "                        dist[current_state][linearize_state(current_location + cols, current_direction)] = 1\n",
    "\n",
    "                    # Change direction clockwise\n",
    "                    next_direction_clockwise = (current_direction + 1) % 4\n",
    "                    dist[current_state][linearize_state(current_location, next_direction_clockwise)] = 1\n",
    "\n",
    "                    # Change direction counter-clockwise\n",
    "                    next_direction_counter_clockwise = (current_direction - 1) % 4\n",
    "                    dist[current_state][linearize_state(current_location, next_direction_counter_clockwise)] = 1\n",
    "\n",
    "    # Apply Floyd-Warshall algorithm to find pairwise shortest paths\n",
    "    for k in range(total_states):\n",
    "        print(k)\n",
    "        for i in range(total_states):\n",
    "            for j in range(total_states):\n",
    "                dist[i][j] = min(dist[i][j], dist[i][k] + dist[k][j])\n",
    "\n",
    "    return dist\n",
    "\n",
    "# Example usage:\n",
    "cols = 3\n",
    "rows = 3\n",
    "map = [0, 0, 1, 1, 0, 0, 1, 0, 0]\n",
    "result = find_pairwise_shortest_with_direction(map, cols, rows)\n",
    "for row in result:\n",
    "    print(row)"
   ]
  },
  {
   "cell_type": "code",
   "execution_count": null,
   "id": "1d8c464c",
   "metadata": {
    "scrolled": true
   },
   "outputs": [],
   "source": [
    "results_state = find_pairwise_shortest_with_direction(np.array(maps),32,32)"
   ]
  },
  {
   "cell_type": "code",
   "execution_count": null,
   "id": "166ac1e7",
   "metadata": {},
   "outputs": [],
   "source": [
    "%%cython -a\n",
    "\n",
    "cimport numpy as np\n",
    "import numpy as np\n",
    "\n",
    "cdef inline int linearize_state(int location, int direction):\n",
    "    return location * 4 + direction\n",
    "\n",
    "def find_pairwise_shortest_with_direction_cython(np.ndarray[int, ndim=1] map, int cols, int rows):\n",
    "    cdef int total_states = cols * rows * 4\n",
    "\n",
    "    # Function to linearize the state (location, direction)\n",
    "\n",
    "\n",
    "    # Initialize the distance matrix with large values\n",
    "    cdef np.ndarray[np.int32_t, ndim=2] dist = np.full((total_states, total_states), np.iinfo(np.int32).max, dtype=np.int32)\n",
    "\n",
    "    # Populate the distance matrix with direct connections and direction changes\n",
    "    cdef int i, j, current_location, current_direction, current_state, next_direction_clockwise, next_direction_counter_clockwise\n",
    "    for i in range(rows):\n",
    "        for j in range(cols):\n",
    "            current_location = i * cols + j\n",
    "\n",
    "            for current_direction in range(4):\n",
    "                current_state = linearize_state(current_location, current_direction)\n",
    "\n",
    "                # Check if the current state is traversable\n",
    "                if map[current_location] == 0:\n",
    "                    # Check left\n",
    "                    if j > 0 and map[current_location - 1] == 0:\n",
    "                        dist[current_state, linearize_state(current_location - 1, current_direction)] = 1\n",
    "                    # Check right\n",
    "                    if j < cols - 1 and map[current_location + 1] == 0:\n",
    "                        dist[current_state, linearize_state(current_location + 1, current_direction)] = 1\n",
    "                    # Check up\n",
    "                    if i > 0 and map[current_location - cols] == 0:\n",
    "                        dist[current_state, linearize_state(current_location - cols, current_direction)] = 1\n",
    "                    # Check down\n",
    "                    if i < rows - 1 and map[current_location + cols] == 0:\n",
    "                        dist[current_state, linearize_state(current_location + cols, current_direction)] = 1\n",
    "\n",
    "                    # Change direction clockwise\n",
    "                    next_direction_clockwise = (current_direction + 1) % 4\n",
    "                    dist[current_state, linearize_state(current_location, next_direction_clockwise)] = 1\n",
    "\n",
    "                    # Change direction counter-clockwise\n",
    "                    next_direction_counter_clockwise = (current_direction - 1 + 4) % 4\n",
    "                    dist[current_state, linearize_state(current_location, next_direction_counter_clockwise)] = 1\n",
    "\n",
    "    # Apply Floyd-Warshall algorithm to find pairwise shortest paths\n",
    "    cdef int k\n",
    "    for k in range(total_states):\n",
    "        print(k)\n",
    "        for i in range(total_states):\n",
    "            for j in range(total_states):\n",
    "                if dist[i, k] != np.iinfo(np.int32).max and dist[k, j] != np.iinfo(np.int32).max:\n",
    "                    dist[i, j] = min(dist[i, j], dist[i, k] + dist[k, j])\n",
    "\n",
    "    return dist\n",
    "\n"
   ]
  },
  {
   "cell_type": "code",
   "execution_count": null,
   "id": "c8b25db6",
   "metadata": {},
   "outputs": [],
   "source": [
    "maps = [0, 0, 0, 0, 0, 0, 0, 0, 0, 0, 1, 0, 0, 0, 0, 0, 0, 1, 0, 0, 0, 1, 0, 1, 0, 0, 0, 0, 0, 0, 0, 0, 1, 0, 0, 0, 1, 0, 1, 1, 0, 0, 0, 0, 0, 0, 0, 0, 0, 0, 0, 1, 0, 1, 0, 0, 0, 1, 0, 0, 0, 0, 0, 0, 0, 0, 0, 0, 0, 0, 0, 0, 0, 0, 0, 0, 0, 0, 1, 0, 0, 0, 0, 0, 0, 0, 0, 1, 1, 0, 0, 0, 1, 0, 0, 0, 0, 0, 0, 0, 0, 1, 0, 1, 0, 0, 0, 0, 0, 0, 0, 0, 0, 0, 1, 0, 0, 0, 0, 0, 0, 0, 0, 0, 0, 1, 0, 0, 0, 1, 1, 0, 0, 0, 0, 0, 0, 0, 0, 0, 0, 0, 1, 1, 0, 1, 0, 0, 0, 0, 0, 0, 1, 0, 0, 1, 0, 0, 0, 0, 0, 0, 0, 0, 0, 0, 1, 0, 0, 1, 0, 1, 0, 0, 1, 1, 0, 0, 0, 0, 0, 0, 1, 0, 0, 0, 0, 1, 0, 0, 1, 1, 0, 0, 0, 0, 0, 0, 1, 0, 0, 1, 1, 0, 0, 0, 0, 0, 0, 0, 0, 1, 0, 0, 0, 0, 0, 0, 0, 1, 0, 0, 0, 1, 0, 1, 0, 0, 0, 1, 0, 0, 0, 0, 0, 0, 0, 0, 0, 0, 0, 0, 0, 0, 0, 1, 1, 0, 0, 0, 1, 0, 0, 1, 0, 0, 0, 0, 0, 0, 0, 0, 1, 0, 0, 0, 0, 0, 0, 0, 0, 0, 1, 0, 0, 0, 0, 0, 0, 0, 1, 0, 1, 0, 0, 0, 0, 0, 0, 0, 1, 0, 1, 0, 0, 0, 0, 0, 0, 0, 0, 0, 0, 0, 0, 1, 0, 1, 0, 0, 0, 0, 0, 0, 0, 1, 1, 0, 0, 0, 1, 0, 1, 0, 0, 0, 0, 0, 0, 0, 0, 0, 1, 0, 1, 0, 0, 0, 0, 0, 0, 0, 1, 0, 0, 0, 1, 0, 0, 0, 0, 0, 0, 0, 0, 0, 0, 0, 0, 0, 0, 0, 0, 0, 1, 0, 0, 0, 0, 0, 1, 0, 1, 0, 1, 0, 0, 0, 0, 0, 0, 0, 1, 0, 0, 0, 1, 0, 0, 0, 0, 0, 1, 0, 1, 0, 1, 1, 0, 1, 0, 0, 0, 0, 0, 0, 0, 0, 0, 0, 1, 0, 0, 0, 0, 0, 0, 1, 0, 0, 0, 0, 0, 0, 0, 0, 0, 0, 0, 0, 0, 0, 0, 0, 1, 0, 1, 0, 0, 0, 0, 0, 1, 0, 0, 0, 1, 0, 0, 0, 0, 1, 1, 1, 0, 0, 0, 0, 0, 0, 0, 1, 0, 0, 0, 0, 0, 0, 0, 0, 0, 1, 0, 0, 0, 0, 0, 0, 0, 0, 0, 0, 0, 0, 0, 0, 0, 0, 1, 0, 0, 0, 0, 1, 0, 1, 0, 1, 0, 0, 1, 0, 0, 0, 0, 0, 0, 0, 0, 0, 0, 0, 0, 0, 1, 0, 0, 0, 1, 0, 0, 0, 0, 0, 0, 0, 0, 1, 0, 0, 0, 0, 1, 0, 0, 1, 1, 1, 0, 0, 0, 0, 1, 0, 0, 1, 0, 0, 0, 0, 0, 0, 1, 1, 1, 0, 0, 1, 0, 1, 0, 0, 1, 0, 1, 0, 0, 1, 1, 0, 0, 0, 0, 1, 1, 1, 1, 0, 0, 0, 0, 0, 0, 0, 0, 0, 1, 0, 0, 0, 0, 0, 0, 0, 0, 1, 0, 0, 1, 0, 0, 0, 0, 0, 0, 1, 1, 1, 0, 0, 0, 0, 0, 0, 1, 0, 0, 0, 1, 0, 0, 1, 0, 0, 1, 0, 1, 0, 0, 0, 1, 0, 0, 0, 1, 0, 0, 0, 0, 0, 0, 1, 0, 1, 0, 0, 0, 0, 0, 0, 0, 0, 1, 0, 0, 0, 0, 0, 0, 0, 0, 0, 1, 1, 0, 1, 0, 0, 0, 1, 0, 0, 0, 0, 0, 0, 0, 0, 0, 1, 0, 1, 0, 0, 0, 0, 0, 0, 0, 0, 1, 0, 0, 1, 1, 1, 0, 0, 1, 1, 1, 0, 0, 0, 0, 0, 1, 0, 1, 0, 0, 1, 0, 0, 0, 0, 1, 0, 0, 0, 0, 0, 0, 1, 0, 0, 0, 0, 0, 0, 0, 0, 0, 0, 1, 0, 0, 0, 0, 0, 0, 0, 0, 1, 0, 0, 0, 0, 0, 1, 0, 0, 0, 0, 1, 0, 0, 0, 1, 0, 1, 0, 1, 1, 0, 0, 0, 0, 0, 0, 0, 0, 0, 0, 0, 0, 0, 0, 0, 0, 0, 0, 0, 0, 0, 1, 0, 0, 0, 1, 0, 1, 0, 0, 1, 0, 1, 0, 0, 0, 0, 0, 0, 0, 0, 0, 0, 0, 0, 0, 0, 0, 0, 0, 0, 0, 1, 0, 0, 0, 0, 0, 0, 0, 0, 1, 0, 0, 1, 0, 0, 1, 0, 1, 0, 0, 0, 0, 0, 0, 1, 0, 1, 0, 0, 0, 0, 0, 0, 0, 0, 0, 1, 1, 0, 0, 0, 0, 0, 0, 0, 0, 0, 1, 0, 0, 1, 0, 0, 1, 0, 0, 1, 0, 0, 0, 0, 0, 0, 0, 0, 0, 0, 0, 0, 0, 0, 0, 0, 0, 0, 0, 0, 0, 0, 0, 1, 0, 0, 1, 1, 0, 0, 0, 0, 0, 0, 1, 0, 0, 0, 1, 0, 0, 0, 1, 0, 0, 0, 0, 0, 0, 0, 0, 0, 1, 1, 1, 1, 0, 0, 0, 0, 1, 0, 0, 0, 0, 1, 0, 0, 0, 0, 1, 0, 1, 0, 1, 0, 0, 0, 1, 0, 0, 0, 0, 0, 0, 1, 1, 1, 1, 0, 1, 0, 0, 1, 1, 0, 1, 0, 1, 1, 0, 0, 0, 0, 0, 1, 0, 0, 0, 0, 0, 0, 0, 0, 1, 0, 0, 0, 0, 1, 1, 0, 0, 0, 0, 0, 0, 0, 0, 0, 0, 0, 0, 0, 1, 0, 0, 1, 0, 0, 0, 0, 0, 0, 0, 0, 0, 1, 0, 0, 0]\n",
    "np_maps = np.array(maps)\n",
    "find_pairwise_shortest_with_direction_cython(np_maps,32,32)"
   ]
  },
  {
   "cell_type": "code",
   "execution_count": null,
   "id": "9c746082",
   "metadata": {},
   "outputs": [],
   "source": [
    "%%cython\n",
    "np_maps = np.array(maps)\n",
    "find_pairwise_shortest_with_direction_cython(np_maps,32,32)"
   ]
  }
 ],
 "metadata": {
  "kernelspec": {
   "display_name": "Python 3 (ipykernel)",
   "language": "python",
   "name": "python3"
  },
  "language_info": {
   "codemirror_mode": {
    "name": "ipython",
    "version": 3
   },
   "file_extension": ".py",
   "mimetype": "text/x-python",
   "name": "python",
   "nbconvert_exporter": "python",
   "pygments_lexer": "ipython3",
   "version": "3.9.13"
  }
 },
 "nbformat": 4,
 "nbformat_minor": 5
}
